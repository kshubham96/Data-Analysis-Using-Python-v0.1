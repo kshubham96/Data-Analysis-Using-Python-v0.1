{
 "cells": [
  {
   "cell_type": "code",
   "execution_count": 1,
   "metadata": {},
   "outputs": [],
   "source": [
    "import pandas as pd\n",
    "import numpy as np\n",
    "import matplotlib.pyplot as plt\n",
    "%matplotlib inline"
   ]
  },
  {
   "cell_type": "code",
   "execution_count": 12,
   "metadata": {},
   "outputs": [
    {
     "data": {
      "text/html": [
       "<div>\n",
       "<style scoped>\n",
       "    .dataframe tbody tr th:only-of-type {\n",
       "        vertical-align: middle;\n",
       "    }\n",
       "\n",
       "    .dataframe tbody tr th {\n",
       "        vertical-align: top;\n",
       "    }\n",
       "\n",
       "    .dataframe thead th {\n",
       "        text-align: right;\n",
       "    }\n",
       "</style>\n",
       "<table border=\"1\" class=\"dataframe\">\n",
       "  <thead>\n",
       "    <tr style=\"text-align: right;\">\n",
       "      <th></th>\n",
       "      <th>hire_date</th>\n",
       "      <th>emp_id</th>\n",
       "      <th>emp_name</th>\n",
       "      <th>salary</th>\n",
       "    </tr>\n",
       "  </thead>\n",
       "  <tbody>\n",
       "    <tr>\n",
       "      <td>0</td>\n",
       "      <td>12/2/2020</td>\n",
       "      <td>1</td>\n",
       "      <td>Sandhya</td>\n",
       "      <td>12000</td>\n",
       "    </tr>\n",
       "    <tr>\n",
       "      <td>1</td>\n",
       "      <td>12/2/2020</td>\n",
       "      <td>2</td>\n",
       "      <td>Sushil</td>\n",
       "      <td>12000</td>\n",
       "    </tr>\n",
       "    <tr>\n",
       "      <td>2</td>\n",
       "      <td>12/2/2020</td>\n",
       "      <td>3</td>\n",
       "      <td>Rahul</td>\n",
       "      <td>12000</td>\n",
       "    </tr>\n",
       "    <tr>\n",
       "      <td>3</td>\n",
       "      <td>12/2/2020</td>\n",
       "      <td>4</td>\n",
       "      <td>Toros</td>\n",
       "      <td>12000</td>\n",
       "    </tr>\n",
       "    <tr>\n",
       "      <td>4</td>\n",
       "      <td>13/2/2020</td>\n",
       "      <td>5</td>\n",
       "      <td>Kent</td>\n",
       "      <td>12000</td>\n",
       "    </tr>\n",
       "    <tr>\n",
       "      <td>5</td>\n",
       "      <td>13/2/2020</td>\n",
       "      <td>6</td>\n",
       "      <td>Trident</td>\n",
       "      <td>20000</td>\n",
       "    </tr>\n",
       "    <tr>\n",
       "      <td>6</td>\n",
       "      <td>13/2/2020</td>\n",
       "      <td>7</td>\n",
       "      <td>Rohan</td>\n",
       "      <td>22000</td>\n",
       "    </tr>\n",
       "    <tr>\n",
       "      <td>7</td>\n",
       "      <td>15/2/2020</td>\n",
       "      <td>8</td>\n",
       "      <td>Ananya</td>\n",
       "      <td>10000</td>\n",
       "    </tr>\n",
       "    <tr>\n",
       "      <td>8</td>\n",
       "      <td>15/2/2020</td>\n",
       "      <td>9</td>\n",
       "      <td>Swati</td>\n",
       "      <td>10000</td>\n",
       "    </tr>\n",
       "    <tr>\n",
       "      <td>9</td>\n",
       "      <td>15/2/2020</td>\n",
       "      <td>10</td>\n",
       "      <td>Priyanka</td>\n",
       "      <td>25000</td>\n",
       "    </tr>\n",
       "    <tr>\n",
       "      <td>10</td>\n",
       "      <td>15/2/2020</td>\n",
       "      <td>11</td>\n",
       "      <td>Opie</td>\n",
       "      <td>25000</td>\n",
       "    </tr>\n",
       "    <tr>\n",
       "      <td>11</td>\n",
       "      <td>15/2/2020</td>\n",
       "      <td>12</td>\n",
       "      <td>Susan</td>\n",
       "      <td>25000</td>\n",
       "    </tr>\n",
       "    <tr>\n",
       "      <td>12</td>\n",
       "      <td>20/3/2020</td>\n",
       "      <td>13</td>\n",
       "      <td>Trace</td>\n",
       "      <td>25000</td>\n",
       "    </tr>\n",
       "  </tbody>\n",
       "</table>\n",
       "</div>"
      ],
      "text/plain": [
       "    hire_date  emp_id  emp_name  salary\n",
       "0   12/2/2020       1   Sandhya   12000\n",
       "1   12/2/2020       2    Sushil   12000\n",
       "2   12/2/2020       3     Rahul   12000\n",
       "3   12/2/2020       4     Toros   12000\n",
       "4   13/2/2020       5      Kent   12000\n",
       "5   13/2/2020       6   Trident   20000\n",
       "6   13/2/2020       7     Rohan   22000\n",
       "7   15/2/2020       8    Ananya   10000\n",
       "8   15/2/2020       9     Swati   10000\n",
       "9   15/2/2020      10  Priyanka   25000\n",
       "10  15/2/2020      11      Opie   25000\n",
       "11  15/2/2020      12     Susan   25000\n",
       "12  20/3/2020      13     Trace   25000"
      ]
     },
     "execution_count": 12,
     "metadata": {},
     "output_type": "execute_result"
    }
   ],
   "source": [
    "employee = pd.read_csv('C:/Users/dell/Desktop/shubham/Stuff/Employee_Details.csv')\n",
    "employee"
   ]
  },
  {
   "cell_type": "code",
   "execution_count": 14,
   "metadata": {},
   "outputs": [
    {
     "data": {
      "text/plain": [
       "array([ 1,  2,  3,  4,  5,  6,  7,  8,  9, 10, 11, 12, 13], dtype=int64)"
      ]
     },
     "execution_count": 14,
     "metadata": {},
     "output_type": "execute_result"
    }
   ],
   "source": [
    "X = employee.iloc[:, :-1].values\n",
    "y = employee.iloc[:,1].values\n",
    "y"
   ]
  }
 ],
 "metadata": {
  "kernelspec": {
   "display_name": "Python 3",
   "language": "python",
   "name": "python3"
  },
  "language_info": {
   "codemirror_mode": {
    "name": "ipython",
    "version": 3
   },
   "file_extension": ".py",
   "mimetype": "text/x-python",
   "name": "python",
   "nbconvert_exporter": "python",
   "pygments_lexer": "ipython3",
   "version": "3.7.4"
  }
 },
 "nbformat": 4,
 "nbformat_minor": 2
}
